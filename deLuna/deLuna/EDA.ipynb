{
 "cells": [
  {
   "cell_type": "code",
   "execution_count": 1,
   "metadata": {},
   "outputs": [],
   "source": [
    "import pandas as pd\n",
    "import numpy as np"
   ]
  },
  {
   "cell_type": "code",
   "execution_count": 2,
   "metadata": {},
   "outputs": [
    {
     "data": {
      "text/plain": [
       "(47, 25)"
      ]
     },
     "execution_count": 2,
     "metadata": {},
     "output_type": "execute_result"
    }
   ],
   "source": [
    "df1 = pd.read_csv('data/Data Entry_8LE853B-Table 1.csv')\n",
    "\n",
    "df1['Site'] = 1\n",
    "\n",
    "df1.shape"
   ]
  },
  {
   "cell_type": "code",
   "execution_count": 3,
   "metadata": {},
   "outputs": [
    {
     "data": {
      "text/plain": [
       "(37, 25)"
      ]
     },
     "execution_count": 3,
     "metadata": {},
     "output_type": "execute_result"
    }
   ],
   "source": [
    "df2 = pd.read_csv('data/Data Entry_8WA321-Table 1.csv')\n",
    "\n",
    "df2['Site'] = 2\n",
    "\n",
    "df2.shape"
   ]
  },
  {
   "cell_type": "code",
   "execution_count": 4,
   "metadata": {},
   "outputs": [
    {
     "data": {
      "text/plain": [
       "(17, 25)"
      ]
     },
     "execution_count": 4,
     "metadata": {},
     "output_type": "execute_result"
    }
   ],
   "source": [
    "df3 = pd.read_csv('data/Data Entry_8WA1221-Table 1.csv')\n",
    "\n",
    "df3['Site'] = 3\n",
    "\n",
    "df3.shape"
   ]
  },
  {
   "cell_type": "code",
   "execution_count": 5,
   "metadata": {},
   "outputs": [],
   "source": [
    "df = pd.concat([df1, df2, df3])"
   ]
  },
  {
   "cell_type": "code",
   "execution_count": 6,
   "metadata": {},
   "outputs": [
    {
     "data": {
      "text/html": [
       "<div>\n",
       "<style scoped>\n",
       "    .dataframe tbody tr th:only-of-type {\n",
       "        vertical-align: middle;\n",
       "    }\n",
       "\n",
       "    .dataframe tbody tr th {\n",
       "        vertical-align: top;\n",
       "    }\n",
       "\n",
       "    .dataframe thead th {\n",
       "        text-align: right;\n",
       "    }\n",
       "</style>\n",
       "<table border=\"1\" class=\"dataframe\">\n",
       "  <thead>\n",
       "    <tr style=\"text-align: right;\">\n",
       "      <th></th>\n",
       "      <th>Location</th>\n",
       "      <th>Al</th>\n",
       "      <th>Si</th>\n",
       "      <th>P</th>\n",
       "      <th>S</th>\n",
       "      <th>K</th>\n",
       "      <th>Ca</th>\n",
       "      <th>Ti</th>\n",
       "      <th>Cr</th>\n",
       "      <th>Mn</th>\n",
       "      <th>...</th>\n",
       "      <th>Sr</th>\n",
       "      <th>Zr</th>\n",
       "      <th>Nb</th>\n",
       "      <th>Cd</th>\n",
       "      <th>Cd.1</th>\n",
       "      <th>Sn</th>\n",
       "      <th>Sn.1</th>\n",
       "      <th>Pb</th>\n",
       "      <th>Pb.1</th>\n",
       "      <th>Site</th>\n",
       "    </tr>\n",
       "  </thead>\n",
       "  <tbody>\n",
       "    <tr>\n",
       "      <th>0</th>\n",
       "      <td>8LE853B_88-5-187-01_FW_40kv_11A</td>\n",
       "      <td>4333</td>\n",
       "      <td>68371</td>\n",
       "      <td>3427</td>\n",
       "      <td>1</td>\n",
       "      <td>1</td>\n",
       "      <td>2971</td>\n",
       "      <td>128474</td>\n",
       "      <td>3101</td>\n",
       "      <td>15203</td>\n",
       "      <td>...</td>\n",
       "      <td>5591</td>\n",
       "      <td>80270</td>\n",
       "      <td>3015</td>\n",
       "      <td>3358</td>\n",
       "      <td>7597</td>\n",
       "      <td>1581</td>\n",
       "      <td>1602</td>\n",
       "      <td>3427</td>\n",
       "      <td>1444</td>\n",
       "      <td>1</td>\n",
       "    </tr>\n",
       "    <tr>\n",
       "      <th>1</th>\n",
       "      <td>8LE853B_88-5-187-02_FW_40kv_11A</td>\n",
       "      <td>4509</td>\n",
       "      <td>79921</td>\n",
       "      <td>2144</td>\n",
       "      <td>1</td>\n",
       "      <td>1</td>\n",
       "      <td>7400</td>\n",
       "      <td>145128</td>\n",
       "      <td>5905</td>\n",
       "      <td>17946</td>\n",
       "      <td>...</td>\n",
       "      <td>7980</td>\n",
       "      <td>53726</td>\n",
       "      <td>5256</td>\n",
       "      <td>3626</td>\n",
       "      <td>8640</td>\n",
       "      <td>1166</td>\n",
       "      <td>3040</td>\n",
       "      <td>4639</td>\n",
       "      <td>1361</td>\n",
       "      <td>1</td>\n",
       "    </tr>\n",
       "    <tr>\n",
       "      <th>2</th>\n",
       "      <td>8LE853B_88-5-187-03_FW_40kv_11A</td>\n",
       "      <td>3257</td>\n",
       "      <td>77313</td>\n",
       "      <td>2163</td>\n",
       "      <td>1</td>\n",
       "      <td>1</td>\n",
       "      <td>3336</td>\n",
       "      <td>156075</td>\n",
       "      <td>4016</td>\n",
       "      <td>10261</td>\n",
       "      <td>...</td>\n",
       "      <td>6697</td>\n",
       "      <td>50673</td>\n",
       "      <td>4056</td>\n",
       "      <td>4130</td>\n",
       "      <td>8514</td>\n",
       "      <td>2148</td>\n",
       "      <td>2110</td>\n",
       "      <td>4943</td>\n",
       "      <td>1090</td>\n",
       "      <td>1</td>\n",
       "    </tr>\n",
       "    <tr>\n",
       "      <th>3</th>\n",
       "      <td>8LE853B_88-5-187-04_FW_40kv_11A</td>\n",
       "      <td>4548</td>\n",
       "      <td>66791</td>\n",
       "      <td>1830</td>\n",
       "      <td>1</td>\n",
       "      <td>1</td>\n",
       "      <td>1578</td>\n",
       "      <td>117219</td>\n",
       "      <td>4256</td>\n",
       "      <td>24173</td>\n",
       "      <td>...</td>\n",
       "      <td>4606</td>\n",
       "      <td>46664</td>\n",
       "      <td>2760</td>\n",
       "      <td>4172</td>\n",
       "      <td>9677</td>\n",
       "      <td>1996</td>\n",
       "      <td>1663</td>\n",
       "      <td>4062</td>\n",
       "      <td>1382</td>\n",
       "      <td>1</td>\n",
       "    </tr>\n",
       "    <tr>\n",
       "      <th>4</th>\n",
       "      <td>8LE853B_88-5-187-06_FW_40kv_11A</td>\n",
       "      <td>3087</td>\n",
       "      <td>92876</td>\n",
       "      <td>1730</td>\n",
       "      <td>1</td>\n",
       "      <td>1</td>\n",
       "      <td>24</td>\n",
       "      <td>118097</td>\n",
       "      <td>2308</td>\n",
       "      <td>24020</td>\n",
       "      <td>...</td>\n",
       "      <td>4145</td>\n",
       "      <td>89797</td>\n",
       "      <td>3329</td>\n",
       "      <td>4015</td>\n",
       "      <td>9865</td>\n",
       "      <td>1752</td>\n",
       "      <td>1327</td>\n",
       "      <td>5393</td>\n",
       "      <td>1265</td>\n",
       "      <td>1</td>\n",
       "    </tr>\n",
       "  </tbody>\n",
       "</table>\n",
       "<p>5 rows × 25 columns</p>\n",
       "</div>"
      ],
      "text/plain": [
       "                          Location    Al     Si     P  S  K    Ca      Ti  \\\n",
       "0  8LE853B_88-5-187-01_FW_40kv_11A  4333  68371  3427  1  1  2971  128474   \n",
       "1  8LE853B_88-5-187-02_FW_40kv_11A  4509  79921  2144  1  1  7400  145128   \n",
       "2  8LE853B_88-5-187-03_FW_40kv_11A  3257  77313  2163  1  1  3336  156075   \n",
       "3  8LE853B_88-5-187-04_FW_40kv_11A  4548  66791  1830  1  1  1578  117219   \n",
       "4  8LE853B_88-5-187-06_FW_40kv_11A  3087  92876  1730  1  1    24  118097   \n",
       "\n",
       "     Cr     Mn  ...    Sr     Zr    Nb    Cd  Cd.1    Sn  Sn.1    Pb  Pb.1  \\\n",
       "0  3101  15203  ...  5591  80270  3015  3358  7597  1581  1602  3427  1444   \n",
       "1  5905  17946  ...  7980  53726  5256  3626  8640  1166  3040  4639  1361   \n",
       "2  4016  10261  ...  6697  50673  4056  4130  8514  2148  2110  4943  1090   \n",
       "3  4256  24173  ...  4606  46664  2760  4172  9677  1996  1663  4062  1382   \n",
       "4  2308  24020  ...  4145  89797  3329  4015  9865  1752  1327  5393  1265   \n",
       "\n",
       "   Site  \n",
       "0     1  \n",
       "1     1  \n",
       "2     1  \n",
       "3     1  \n",
       "4     1  \n",
       "\n",
       "[5 rows x 25 columns]"
      ]
     },
     "execution_count": 6,
     "metadata": {},
     "output_type": "execute_result"
    }
   ],
   "source": [
    "df.head()"
   ]
  },
  {
   "cell_type": "code",
   "execution_count": 7,
   "metadata": {},
   "outputs": [],
   "source": [
    "df = df.set_index('Location')"
   ]
  },
  {
   "cell_type": "code",
   "execution_count": 8,
   "metadata": {},
   "outputs": [],
   "source": [
    "df.to_csv('data/out.csv', index_label=False)"
   ]
  },
  {
   "cell_type": "code",
   "execution_count": null,
   "metadata": {},
   "outputs": [],
   "source": []
  }
 ],
 "metadata": {
  "kernelspec": {
   "display_name": "Python 3",
   "language": "python",
   "name": "python3"
  },
  "language_info": {
   "codemirror_mode": {
    "name": "ipython",
    "version": 3
   },
   "file_extension": ".py",
   "mimetype": "text/x-python",
   "name": "python",
   "nbconvert_exporter": "python",
   "pygments_lexer": "ipython3",
   "version": "3.7.2"
  }
 },
 "nbformat": 4,
 "nbformat_minor": 2
}
